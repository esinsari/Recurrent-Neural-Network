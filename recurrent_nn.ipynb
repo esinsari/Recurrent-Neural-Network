{
  "nbformat": 4,
  "nbformat_minor": 0,
  "metadata": {
    "colab": {
      "name": "Homework_04.ipynb",
      "provenance": [],
      "collapsed_sections": []
    },
    "coursera": {
      "course_slug": "neural-networks-deep-learning",
      "graded_item_id": "XaIWT",
      "launcher_item_id": "zAgPl"
    },
    "kernelspec": {
      "display_name": "Python 3",
      "language": "python",
      "name": "python3"
    },
    "language_info": {
      "codemirror_mode": {
        "name": "ipython",
        "version": 3
      },
      "file_extension": ".py",
      "mimetype": "text/x-python",
      "name": "python",
      "nbconvert_exporter": "python",
      "pygments_lexer": "ipython3",
      "version": "3.8.3"
    },
    "accelerator": "GPU"
  },
  "cells": [
    {
      "cell_type": "markdown",
      "metadata": {
        "id": "1LwvvMtG18SK"
      },
      "source": [
        "# Recurrent Neural Network\n",
        "\n",
        "Implement a basic RNN network and an LSTM network with Keras\\\n",
        "Use Machine Learning libaries like Scikit-learn for data preprocessing.\n",
        "\n",
        "**Task Overview:**\n",
        "- Implement a basic RNN network to solve time series prediction \n",
        "- Implement an LSTM network to conduct sentiment analysis"
      ]
    },
    {
      "cell_type": "markdown",
      "metadata": {
        "id": "l24oSrIK18SL"
      },
      "source": [
        "## 1 - Implement Basic RNN network with Keras to predict time series##\n",
        "### 1.1 Prepare the data\n",
        "\n",
        "Prepare time series data for deep neural network training.\n",
        "\n",
        "**Tasks:**\n",
        "1. Load train and test data: \"train.txt\" and \"test.txt\".\n",
        "2. Generate the **TRAIN** and **TEST** labels. \n",
        "2. Normalize the **TRAIN** and **TEST** data with sklearn function \"MinMaxScaler\". \n",
        "3. Print out the **TEST** data and label.\n",
        "\n",
        "\n",
        "Apply the MinMaxScaler to both the train and test data.\\\n",
        "https://scikit-learn.org/stable/modules/generated/sklearn.preprocessing.MinMaxScaler.html\n"
      ]
    },
    {
      "cell_type": "code",
      "metadata": {
        "id": "hS7xhrC3-_-1"
      },
      "source": [
        "### Import Libraries ###\n",
        "\n",
        "import tensorflow as tf\n",
        "import tensorflow.keras as keras\n",
        "import tensorflow.keras.layers \n",
        "import random\n",
        "import numpy as np\n",
        "\n",
        "### Set random seed to ensure deterministic results\n",
        "import os\n",
        "seed_value = 1\n",
        "os.environ['PYTHONHASHSEED']=str(seed_value)\n",
        "def reset_random_seeds():\n",
        "   tf.random.set_seed(seed_value)\n",
        "   np.random.seed(seed_value)\n",
        "   random.seed(seed_value)\n",
        "reset_random_seeds()"
      ],
      "execution_count": null,
      "outputs": []
    },
    {
      "cell_type": "code",
      "metadata": {
        "id": "shAj2Y6IuxUv"
      },
      "source": [
        "### Prepare and Preprocess Data Here ###\n",
        "\n",
        "from pandas import read_csv\n",
        "\n",
        "### Design a Function to Prepare Observation Sequences and Corresponding Labels ###\n",
        "def create_dataset(dataset, look_back=12): # look_back is used to specify input sequence length\n",
        "     dataX, dataY = [], []\n",
        "     for i in range(len(dataset)-look_back):\n",
        "         dataX.append(dataset[i:i + look_back]) # make sure correct start and end elements\n",
        "         dataY.append(dataset[i + look_back]) # make sure correct start and end elements; here, we have only one point ahead for prediction\n",
        "     return np.array(dataX), np.array(dataY)\n",
        "\n",
        "### Train and Test Data Loading with float32 type ####\n",
        "dataframe_test = read_csv('test.txt')['Passengers']\n",
        "dataset_test = dataframe_test.values\n",
        "dataset_test = dataset_test.astype('float32')\n",
        "test_data = dataset_test.reshape(len(dataset_test), 1)\n",
        "\n",
        "dataframe_train = read_csv('train.txt')['Passengers']\n",
        "dataset_train = dataframe_train.values\n",
        "dataset_train = dataset_train.astype('float32')\n",
        "train_data = dataset_train.reshape(len(dataset_train), 1)"
      ],
      "execution_count": null,
      "outputs": []
    },
    {
      "cell_type": "code",
      "metadata": {
        "id": "O8MlgYTvvIeD"
      },
      "source": [
        "from sklearn.preprocessing import MinMaxScaler\n",
        "\n",
        "### Scale Training and Test Data to [0, 1] ###\n",
        "scaler = MinMaxScaler(feature_range=(0, 1)) # specify the scaler\n",
        "train = scaler.fit_transform(train_data) # fit the scaler to the training data\n",
        "test = scaler.fit_transform(test_data) # fit the scaler to the test data\n"
      ],
      "execution_count": null,
      "outputs": []
    },
    {
      "cell_type": "code",
      "metadata": {
        "id": "iFjx9u37jAJR"
      },
      "source": [
        "### Train and Test Data Split\n",
        "trainX = np.expand_dims(train, axis=1)\n",
        "testX = np.expand_dims(test, axis=1)\n",
        "\n",
        "trainX, trainY = create_dataset(train, look_back=12) # historical window is 12; future window is 1.\n",
        "testX, testY = create_dataset(test, look_back=12)\n",
        "\n",
        "### Train and Test Data Reshape (to fit RNN input)\n",
        "\n",
        "trainX = np.reshape(trainX, (trainX.shape[0], 1, trainX.shape[1])) \n",
        "testX = np.reshape(testX, (testX.shape[0], 1, testX.shape[1]))"
      ],
      "execution_count": null,
      "outputs": []
    },
    {
      "cell_type": "code",
      "metadata": {
        "id": "AQ1uHWzX8wlH",
        "colab": {
          "base_uri": "https://localhost:8080/"
        },
        "outputId": "e77075c6-52cc-4930-9acf-eb1d6a43ed68"
      },
      "source": [
        "# print out the test data and label here\n",
        "print(testX)\n",
        "print(testY)\n",
        "\n",
        "print(\"TrainX.shape = \", trainX.shape)\n",
        "print(\"TrainY.shape = \", trainY.shape)\n",
        "\n",
        "print(\"TestX.shape = \", testX.shape)\n",
        "print(\"TestY.shape = \", testY.shape)"
      ],
      "execution_count": null,
      "outputs": [
        {
          "output_type": "stream",
          "text": [
            "[[[0.5801282  0.625      0.30128205 0.15705132 0.         0.08653843\n",
            "   0.16025639 0.1025641  0.3076923  0.27564108 0.3525641  0.5192307 ]]\n",
            "\n",
            " [[0.625      0.30128205 0.15705132 0.         0.08653843 0.16025639\n",
            "   0.1025641  0.3076923  0.27564108 0.3525641  0.5192307  0.7628205 ]]\n",
            "\n",
            " [[0.30128205 0.15705132 0.         0.08653843 0.16025639 0.1025641\n",
            "   0.3076923  0.27564108 0.3525641  0.5192307  0.7628205  0.798077  ]]\n",
            "\n",
            " [[0.15705132 0.         0.08653843 0.16025639 0.1025641  0.3076923\n",
            "   0.27564108 0.3525641  0.5192307  0.7628205  0.798077   0.49038458]]\n",
            "\n",
            " [[0.         0.08653843 0.16025639 0.1025641  0.3076923  0.27564108\n",
            "   0.3525641  0.5192307  0.7628205  0.798077   0.49038458 0.31089747]]\n",
            "\n",
            " [[0.08653843 0.16025639 0.1025641  0.3076923  0.27564108 0.3525641\n",
            "   0.5192307  0.7628205  0.798077   0.49038458 0.31089747 0.16666663]]\n",
            "\n",
            " [[0.16025639 0.1025641  0.3076923  0.27564108 0.3525641  0.5192307\n",
            "   0.7628205  0.798077   0.49038458 0.31089747 0.16666663 0.30448723]]\n",
            "\n",
            " [[0.1025641  0.3076923  0.27564108 0.3525641  0.5192307  0.7628205\n",
            "   0.798077   0.49038458 0.31089747 0.16666663 0.30448723 0.34294868]]\n",
            "\n",
            " [[0.3076923  0.27564108 0.3525641  0.5192307  0.7628205  0.798077\n",
            "   0.49038458 0.31089747 0.16666663 0.30448723 0.34294868 0.25961542]]\n",
            "\n",
            " [[0.27564108 0.3525641  0.5192307  0.7628205  0.798077   0.49038458\n",
            "   0.31089747 0.16666663 0.30448723 0.34294868 0.25961542 0.34935904]]\n",
            "\n",
            " [[0.3525641  0.5192307  0.7628205  0.798077   0.49038458 0.31089747\n",
            "   0.16666663 0.30448723 0.34294868 0.25961542 0.34935904 0.48397434]]\n",
            "\n",
            " [[0.5192307  0.7628205  0.798077   0.49038458 0.31089747 0.16666663\n",
            "   0.30448723 0.34294868 0.25961542 0.34935904 0.48397434 0.5192307 ]]\n",
            "\n",
            " [[0.7628205  0.798077   0.49038458 0.31089747 0.16666663 0.30448723\n",
            "   0.34294868 0.25961542 0.34935904 0.48397434 0.5192307  0.72115386]]\n",
            "\n",
            " [[0.798077   0.49038458 0.31089747 0.16666663 0.30448723 0.34294868\n",
            "   0.25961542 0.34935904 0.48397434 0.5192307  0.72115386 1.        ]]\n",
            "\n",
            " [[0.49038458 0.31089747 0.16666663 0.30448723 0.34294868 0.25961542\n",
            "   0.34935904 0.48397434 0.5192307  0.72115386 1.         0.94871795]]\n",
            "\n",
            " [[0.31089747 0.16666663 0.30448723 0.34294868 0.25961542 0.34935904\n",
            "   0.48397434 0.5192307  0.72115386 1.         0.94871795 0.6346154 ]]\n",
            "\n",
            " [[0.16666663 0.30448723 0.34294868 0.25961542 0.34935904 0.48397434\n",
            "   0.5192307  0.72115386 1.         0.94871795 0.6346154  0.48397434]]]\n",
            "[[0.7628205 ]\n",
            " [0.798077  ]\n",
            " [0.49038458]\n",
            " [0.31089747]\n",
            " [0.16666663]\n",
            " [0.30448723]\n",
            " [0.34294868]\n",
            " [0.25961542]\n",
            " [0.34935904]\n",
            " [0.48397434]\n",
            " [0.5192307 ]\n",
            " [0.72115386]\n",
            " [1.        ]\n",
            " [0.94871795]\n",
            " [0.6346154 ]\n",
            " [0.48397434]\n",
            " [0.25641024]]\n",
            "TrainX.shape =  (101, 1, 12)\n",
            "TrainY.shape =  (101, 1)\n",
            "TestX.shape =  (17, 1, 12)\n",
            "TestY.shape =  (17, 1)\n"
          ],
          "name": "stdout"
        }
      ]
    },
    {
      "cell_type": "markdown",
      "metadata": {
        "id": "0AlakqA_vuFb"
      },
      "source": [
        "### 1.2 - Build the RNN model ##\n",
        "\n",
        "\n",
        "Build an RNN model with SimpleRNN cell. \n",
        "\n",
        "**Tasks:**\n",
        "1. Build an RNN model with 1 RNN layer and 1 Dense layer.\n",
        "2. Compile the model.\n",
        "3. Train the model for 100 epochs with **batch_size = 10**. \n",
        "\n",
        "**tensorflow.keras.layers.SimpleRNN(unit_size=4)** to specify RNN cells.\n",
        "Loss function = 'mean_squared_error' and select **Adam** optimizer with **learning_rate=0.01** and other default settings.\n",
        "After first epoch, the train loss is changed to around **0.0656**. \n"
      ]
    },
    {
      "cell_type": "code",
      "metadata": {
        "id": "Jn92qh8oyq0B"
      },
      "source": [
        "### Build the RNN Model ###\n",
        "import keras\n",
        "from keras.models import Sequential\n",
        "\n",
        "keras.backend.clear_session()\n",
        "\n",
        "model = Sequential() # Declare Sequential class and assign it to variable \"model\"\n",
        "model.add(tf.keras.layers.SimpleRNN(units=4)) # Add a simple RNN layer with unit_size=4 in the model \n",
        "model.add(keras.layers.Dense(units=1)) # Add a following Dense layer with units=1 in the model \n"
      ],
      "execution_count": null,
      "outputs": []
    },
    {
      "cell_type": "code",
      "metadata": {
        "id": "GnO-5WT-3hgH"
      },
      "source": [
        "### Compile the RNN model ###\n",
        "\n",
        "opt = keras.optimizers.Adam(learning_rate=0.01)\n",
        "model.compile(loss='mean_squared_error', optimizer=opt)# model compiled with mean_squared_error loss and adam optimizer"
      ],
      "execution_count": null,
      "outputs": []
    },
    {
      "cell_type": "code",
      "metadata": {
        "id": "6tpZAutlzify",
        "colab": {
          "base_uri": "https://localhost:8080/"
        },
        "outputId": "d91c810d-021f-4641-d8ac-c4adc53421a8"
      },
      "source": [
        "### Train the RNN model and PRINT OUT MODEL STRUCTURE with model.summary() ###\n",
        "\n",
        "model.fit(x=trainX, y=trainY, epochs=100, batch_size=10, verbose=2) # model fit with epoch=100, batch_size=10; verbose=2 is optional.\n",
        "model.summary() # print out model structure with model.summary()\n"
      ],
      "execution_count": null,
      "outputs": [
        {
          "output_type": "stream",
          "text": [
            "Epoch 1/100\n",
            "11/11 - 0s - loss: 0.0656\n",
            "Epoch 2/100\n",
            "11/11 - 0s - loss: 0.0340\n",
            "Epoch 3/100\n",
            "11/11 - 0s - loss: 0.0215\n",
            "Epoch 4/100\n",
            "11/11 - 0s - loss: 0.0144\n",
            "Epoch 5/100\n",
            "11/11 - 0s - loss: 0.0125\n",
            "Epoch 6/100\n",
            "11/11 - 0s - loss: 0.0115\n",
            "Epoch 7/100\n",
            "11/11 - 0s - loss: 0.0092\n",
            "Epoch 8/100\n",
            "11/11 - 0s - loss: 0.0080\n",
            "Epoch 9/100\n",
            "11/11 - 0s - loss: 0.0068\n",
            "Epoch 10/100\n",
            "11/11 - 0s - loss: 0.0056\n",
            "Epoch 11/100\n",
            "11/11 - 0s - loss: 0.0047\n",
            "Epoch 12/100\n",
            "11/11 - 0s - loss: 0.0055\n",
            "Epoch 13/100\n",
            "11/11 - 0s - loss: 0.0035\n",
            "Epoch 14/100\n",
            "11/11 - 0s - loss: 0.0035\n",
            "Epoch 15/100\n",
            "11/11 - 0s - loss: 0.0034\n",
            "Epoch 16/100\n",
            "11/11 - 0s - loss: 0.0037\n",
            "Epoch 17/100\n",
            "11/11 - 0s - loss: 0.0028\n",
            "Epoch 18/100\n",
            "11/11 - 0s - loss: 0.0029\n",
            "Epoch 19/100\n",
            "11/11 - 0s - loss: 0.0029\n",
            "Epoch 20/100\n",
            "11/11 - 0s - loss: 0.0029\n",
            "Epoch 21/100\n",
            "11/11 - 0s - loss: 0.0022\n",
            "Epoch 22/100\n",
            "11/11 - 0s - loss: 0.0022\n",
            "Epoch 23/100\n",
            "11/11 - 0s - loss: 0.0020\n",
            "Epoch 24/100\n",
            "11/11 - 0s - loss: 0.0024\n",
            "Epoch 25/100\n",
            "11/11 - 0s - loss: 0.0027\n",
            "Epoch 26/100\n",
            "11/11 - 0s - loss: 0.0019\n",
            "Epoch 27/100\n",
            "11/11 - 0s - loss: 0.0019\n",
            "Epoch 28/100\n",
            "11/11 - 0s - loss: 0.0018\n",
            "Epoch 29/100\n",
            "11/11 - 0s - loss: 0.0018\n",
            "Epoch 30/100\n",
            "11/11 - 0s - loss: 0.0017\n",
            "Epoch 31/100\n",
            "11/11 - 0s - loss: 0.0016\n",
            "Epoch 32/100\n",
            "11/11 - 0s - loss: 0.0015\n",
            "Epoch 33/100\n",
            "11/11 - 0s - loss: 0.0015\n",
            "Epoch 34/100\n",
            "11/11 - 0s - loss: 0.0015\n",
            "Epoch 35/100\n",
            "11/11 - 0s - loss: 0.0016\n",
            "Epoch 36/100\n",
            "11/11 - 0s - loss: 0.0019\n",
            "Epoch 37/100\n",
            "11/11 - 0s - loss: 0.0019\n",
            "Epoch 38/100\n",
            "11/11 - 0s - loss: 0.0018\n",
            "Epoch 39/100\n",
            "11/11 - 0s - loss: 0.0019\n",
            "Epoch 40/100\n",
            "11/11 - 0s - loss: 0.0016\n",
            "Epoch 41/100\n",
            "11/11 - 0s - loss: 0.0015\n",
            "Epoch 42/100\n",
            "11/11 - 0s - loss: 0.0014\n",
            "Epoch 43/100\n",
            "11/11 - 0s - loss: 0.0014\n",
            "Epoch 44/100\n",
            "11/11 - 0s - loss: 0.0020\n",
            "Epoch 45/100\n",
            "11/11 - 0s - loss: 0.0017\n",
            "Epoch 46/100\n",
            "11/11 - 0s - loss: 0.0016\n",
            "Epoch 47/100\n",
            "11/11 - 0s - loss: 0.0016\n",
            "Epoch 48/100\n",
            "11/11 - 0s - loss: 0.0017\n",
            "Epoch 49/100\n",
            "11/11 - 0s - loss: 0.0016\n",
            "Epoch 50/100\n",
            "11/11 - 0s - loss: 0.0014\n",
            "Epoch 51/100\n",
            "11/11 - 0s - loss: 0.0016\n",
            "Epoch 52/100\n",
            "11/11 - 0s - loss: 0.0020\n",
            "Epoch 53/100\n",
            "11/11 - 0s - loss: 0.0014\n",
            "Epoch 54/100\n",
            "11/11 - 0s - loss: 0.0013\n",
            "Epoch 55/100\n",
            "11/11 - 0s - loss: 0.0013\n",
            "Epoch 56/100\n",
            "11/11 - 0s - loss: 0.0013\n",
            "Epoch 57/100\n",
            "11/11 - 0s - loss: 0.0013\n",
            "Epoch 58/100\n",
            "11/11 - 0s - loss: 0.0013\n",
            "Epoch 59/100\n",
            "11/11 - 0s - loss: 0.0022\n",
            "Epoch 60/100\n",
            "11/11 - 0s - loss: 0.0035\n",
            "Epoch 61/100\n",
            "11/11 - 0s - loss: 0.0016\n",
            "Epoch 62/100\n",
            "11/11 - 0s - loss: 0.0013\n",
            "Epoch 63/100\n",
            "11/11 - 0s - loss: 0.0013\n",
            "Epoch 64/100\n",
            "11/11 - 0s - loss: 0.0013\n",
            "Epoch 65/100\n",
            "11/11 - 0s - loss: 0.0013\n",
            "Epoch 66/100\n",
            "11/11 - 0s - loss: 0.0015\n",
            "Epoch 67/100\n",
            "11/11 - 0s - loss: 0.0018\n",
            "Epoch 68/100\n",
            "11/11 - 0s - loss: 0.0017\n",
            "Epoch 69/100\n",
            "11/11 - 0s - loss: 0.0023\n",
            "Epoch 70/100\n",
            "11/11 - 0s - loss: 0.0024\n",
            "Epoch 71/100\n",
            "11/11 - 0s - loss: 0.0013\n",
            "Epoch 72/100\n",
            "11/11 - 0s - loss: 0.0014\n",
            "Epoch 73/100\n",
            "11/11 - 0s - loss: 0.0013\n",
            "Epoch 74/100\n",
            "11/11 - 0s - loss: 0.0013\n",
            "Epoch 75/100\n",
            "11/11 - 0s - loss: 0.0012\n",
            "Epoch 76/100\n",
            "11/11 - 0s - loss: 0.0013\n",
            "Epoch 77/100\n",
            "11/11 - 0s - loss: 0.0013\n",
            "Epoch 78/100\n",
            "11/11 - 0s - loss: 0.0014\n",
            "Epoch 79/100\n",
            "11/11 - 0s - loss: 0.0016\n",
            "Epoch 80/100\n",
            "11/11 - 0s - loss: 0.0014\n",
            "Epoch 81/100\n",
            "11/11 - 0s - loss: 0.0012\n",
            "Epoch 82/100\n",
            "11/11 - 0s - loss: 0.0012\n",
            "Epoch 83/100\n",
            "11/11 - 0s - loss: 0.0014\n",
            "Epoch 84/100\n",
            "11/11 - 0s - loss: 0.0020\n",
            "Epoch 85/100\n",
            "11/11 - 0s - loss: 0.0020\n",
            "Epoch 86/100\n",
            "11/11 - 0s - loss: 0.0014\n",
            "Epoch 87/100\n",
            "11/11 - 0s - loss: 0.0013\n",
            "Epoch 88/100\n",
            "11/11 - 0s - loss: 0.0012\n",
            "Epoch 89/100\n",
            "11/11 - 0s - loss: 0.0011\n",
            "Epoch 90/100\n",
            "11/11 - 0s - loss: 0.0011\n",
            "Epoch 91/100\n",
            "11/11 - 0s - loss: 0.0016\n",
            "Epoch 92/100\n",
            "11/11 - 0s - loss: 0.0017\n",
            "Epoch 93/100\n",
            "11/11 - 0s - loss: 0.0016\n",
            "Epoch 94/100\n",
            "11/11 - 0s - loss: 0.0013\n",
            "Epoch 95/100\n",
            "11/11 - 0s - loss: 0.0012\n",
            "Epoch 96/100\n",
            "11/11 - 0s - loss: 0.0015\n",
            "Epoch 97/100\n",
            "11/11 - 0s - loss: 0.0016\n",
            "Epoch 98/100\n",
            "11/11 - 0s - loss: 0.0012\n",
            "Epoch 99/100\n",
            "11/11 - 0s - loss: 0.0015\n",
            "Epoch 100/100\n",
            "11/11 - 0s - loss: 0.0021\n",
            "Model: \"sequential\"\n",
            "_________________________________________________________________\n",
            "Layer (type)                 Output Shape              Param #   \n",
            "=================================================================\n",
            "simple_rnn (SimpleRNN)       (None, 4)                 68        \n",
            "_________________________________________________________________\n",
            "dense (Dense)                (None, 1)                 5         \n",
            "=================================================================\n",
            "Total params: 73\n",
            "Trainable params: 73\n",
            "Non-trainable params: 0\n",
            "_________________________________________________________________\n"
          ],
          "name": "stdout"
        }
      ]
    },
    {
      "cell_type": "markdown",
      "metadata": {
        "id": "Dd2jZl4n0H8m"
      },
      "source": [
        "### 1.3 Evaluate Predictive Model Performance\n",
        "\n",
        "Predict datapoints with the observed datapoints and trained model. \n",
        "\n",
        "**Tasks:**\n",
        "1. Do direct prediction on train and test datapoints with the obtained model in section 1.2. \n",
        "2. Scale the prediction results back to original representation with the scaler. \n",
        "3. Calculate root mean squared error (RMSE) and **print out** the error for **both TRAIN and TEST**.\n",
        "4. **Plot** the **TEST** label and prediction. \n",
        "\n",
        " \n",
        "Scale back the predictions with the build-in function \"scaler.inverse_transform\".\\\n",
        "https://scikit-learn.org/stable/modules/generated/sklearn.preprocessing.MinMaxScaler.html#sklearn.preprocessing.MinMaxScaler.inverse_transform\n",
        " \n",
        "For validation: Train Score: **~13 RMSE** Test Score: **~19 RMSE**\n"
      ]
    },
    {
      "cell_type": "code",
      "metadata": {
        "id": "KNEkAMxnz8Mq"
      },
      "source": [
        "### Make Predictions ###\n",
        "\n",
        "trainPredict = model.predict(trainX)\n",
        "testPredict = model.predict(testX)"
      ],
      "execution_count": null,
      "outputs": []
    },
    {
      "cell_type": "code",
      "metadata": {
        "id": "LbnRqEv9z-he"
      },
      "source": [
        "### Scale Back Predictions ###\n",
        "\n",
        "trainPredict = scaler.inverse_transform(trainPredict) # scale train prediction back with scaler.inverse_transform()\n",
        "trainY = scaler.inverse_transform(trainY)  # scale train labels back with scaler.inverse_transform()\n",
        "\n",
        "testPredict = scaler.inverse_transform(testPredict) # scale test prediction back with scaler.inverse_transform()\n",
        "testY = scaler.inverse_transform(testY) # scale test labels back with scaler.inverse_transform()\n"
      ],
      "execution_count": null,
      "outputs": []
    },
    {
      "cell_type": "code",
      "metadata": {
        "id": "xdBWzmE91G6_",
        "colab": {
          "base_uri": "https://localhost:8080/"
        },
        "outputId": "d69c6cea-6bbe-4b9a-e552-e21abe2f1609"
      },
      "source": [
        "### Calculate Root Mean Squared Error (RMSE) ###\n",
        "import math\n",
        "from sklearn.metrics import mean_squared_error # Import mean_squared_error from sklearn.metrics\n",
        "\n",
        "trainScore = math.sqrt(mean_squared_error(trainY[:,0], trainPredict[:,0]))\n",
        "testScore = math.sqrt(mean_squared_error(testY[:,0], testPredict[:,0])) \n",
        "print('Train Score: %.2f RMSE' % (trainScore))\n",
        "print('Test Score: %.2f RMSE' % (testScore))"
      ],
      "execution_count": null,
      "outputs": [
        {
          "output_type": "stream",
          "text": [
            "Train Score: 13.03 RMSE\n",
            "Test Score: 19.02 RMSE\n"
          ],
          "name": "stdout"
        }
      ]
    },
    {
      "cell_type": "code",
      "metadata": {
        "id": "txdu8q7l1aju",
        "colab": {
          "base_uri": "https://localhost:8080/",
          "height": 282
        },
        "outputId": "bba8a194-79eb-44e4-8b62-ca1c065a69a9"
      },
      "source": [
        "### Plot Baseline and Predictions ###\n",
        "import matplotlib.pyplot as plt\n",
        "\n",
        "plt.plot(testY) \n",
        "plt.plot(testPredict)"
      ],
      "execution_count": null,
      "outputs": [
        {
          "output_type": "execute_result",
          "data": {
            "text/plain": [
              "[<matplotlib.lines.Line2D at 0x7f6e493116d8>]"
            ]
          },
          "metadata": {
            "tags": []
          },
          "execution_count": 136
        },
        {
          "output_type": "display_data",
          "data": {
            "image/png": "[encoded data removed]",
            "text/plain": [
              "<Figure size 432x288 with 1 Axes>"
            ]
          },
          "metadata": {
            "tags": [],
            "needs_background": "light"
          }
        }
      ]
    },
    {
      "cell_type": "markdown",
      "metadata": {
        "id": "O49Ug-FhtCg8"
      },
      "source": [
        "## 2 - Build an LSTM model to conduct sentiment analysis ##\n",
        "\n",
        "### 2.1 Prepare the data ###\n",
        "\n",
        "Prepare IMDB data for reccurent neural network training.\n",
        "\n",
        "**Tasks:**\n",
        "1. Load the data from IMDB review dataset and **print out** the lengths of sequences.\n",
        "2. Preprocess review data to meet the network input requirement by specifying **number of words=1000**, setting **the analysis length of the review = 100**, and **padding the input sequences**. \n",
        "\n",
        " \n",
        "  Load the IMDB data with keras.datasets.imdb.load_data(num_words=max_features)  max_features is set to **1000**.\n",
        " \n",
        "  Use keras.preprocessing.sequence.pad_sequences(x_train, maxlen) to pad the input sequences and set maxlen to **100**.\n",
        "\n",
        "**Note:**\\\n",
        "We train the built LSTM-based model with ALL training data; the **validation set** (aka **development set**) is set with the **testing set** for model evaluation. This split is common in the application with limited sampled observation data, like NLP problems.\n"
      ]
    },
    {
      "cell_type": "code",
      "metadata": {
        "id": "UI4ki461S2V3"
      },
      "source": [
        "import tensorflow as tf\n",
        "import tensorflow.keras as keras\n",
        "from keras import layers\n",
        "import random\n",
        "import numpy as np\n",
        "\n",
        "\n",
        "### Set random seed to ensure deterministic results\n",
        "import os\n",
        "seed_value = 1\n",
        "os.environ['PYTHONHASHSEED']=str(seed_value)\n",
        "def reset_random_seeds():\n",
        "   tf.random.set_seed(seed_value)\n",
        "   np.random.seed(seed_value)\n",
        "   random.seed(seed_value)\n",
        "\n",
        "reset_random_seeds() # randomly set initial data"
      ],
      "execution_count": null,
      "outputs": []
    },
    {
      "cell_type": "code",
      "metadata": {
        "id": "LvV1Sv2a18SM",
        "colab": {
          "base_uri": "https://localhost:8080/"
        },
        "outputId": "3d24f9ea-bb74-482c-8294-1e0f5649a986"
      },
      "source": [
        "# Prepare the data here\n",
        "\n",
        "max_features = 1000 # Only consider the top 1k words\n",
        "maxlen = 100 # Only consider the first 100 words of each movie review\n",
        "\n",
        "(x_train, y_train), (x_val, y_val) = keras.datasets.imdb.load_data(num_words = 1000) # load IMDB data with specified num_words = 1000; testing set is set to validation set.\n",
        "print(len(x_train), \"Training sequences\")\n",
        "print(len(x_val), \"Validation sequences\")\n",
        "x_train = keras.preprocessing.sequence.pad_sequences(x_train, maxlen = 100) # Pad IMDB training data with specified maxlen=100\n",
        "x_val = keras.preprocessing.sequence.pad_sequences(x_val, maxlen = 100) # Pad IMDB validation data with specified maxlen=100\n",
        "\n"
      ],
      "execution_count": null,
      "outputs": [
        {
          "output_type": "stream",
          "text": [
            "Downloading data from https://storage.googleapis.com/tensorflow/tf-keras-datasets/imdb.npz\n",
            "17465344/17464789 [==============================] - 0s 0us/step\n",
            "25000 Training sequences\n",
            "25000 Validation sequences\n"
          ],
          "name": "stdout"
        }
      ]
    },
    {
      "cell_type": "markdown",
      "metadata": {
        "id": "v_JFQeWK18SR"
      },
      "source": [
        "### 2.2 - Design and train LSTM model###\n",
        "\n",
        "Build an LSTM model.\n",
        "\n",
        "**Tasks:**\n",
        "1. Build the LSTM model with **1 embedding layer**, **1 LSTM layer**, and **1 Dense layer**. **Print out** model summary. The embedding vector is specified with the dimension of **8**.\n",
        "2. Compile the LSTM model with **Adam** optimizer, **binary_crossentropy** loss function, and **accuracy** metrics.  \n",
        "3. Train the LSTM model with **batch_size=64 for 10 epochs** and report **training and validation accuracies over epochs**. \n",
        "4. **Print out** best validation accuracy.\n",
        "\n",
        " \n",
        "For validation:\\\n",
        "**loss: ~0.5675 - accuracy: ~0.7072 - val_loss: ~0.4549 - val_accuracy: ~0.8020**\n",
        "\n",
        "\n",
        " https://keras.io/examples/nlp/bidirectional_lstm_imdb/"
      ]
    },
    {
      "cell_type": "code",
      "metadata": {
        "id": "UDqqgFt118SS",
        "colab": {
          "base_uri": "https://localhost:8080/"
        },
        "outputId": "ff8df6ba-0fbd-4430-b581-836c5eeea474"
      },
      "source": [
        "### Model design with Embedding and LSTM layers ####\n",
        "inputs = keras.Input(shape=(None,), dtype=\"int32\") # This is an easy way to set an adaptive length for input sequence\n",
        "x = layers.Embedding(max_features, 8)(inputs) # Embed data in an 8-dimensional vector\n",
        "x = layers.LSTM(8)(x) # Add 1st layer of LSTM with 8 hidden states (aka units)\n",
        "outputs = layers.Dense(units=1, activation=\"sigmoid\")(x) # Add a classifier with units=1 and activation=\"sigmoid\"\n",
        "\n",
        "### Clear cached model to refresh memory and build new model for training ###\n",
        "keras.backend.clear_session() # Clear cached model\n",
        "model = keras.Model(inputs, outputs) # Build new keras model\n",
        "model.summary() # Print out model summary\n",
        "\n",
        "model.compile(\"adam\", \"binary_crossentropy\", metrics=[\"accuracy\"])# Compile built model with \"adam\", \"binary_crossentropy\", and metrics=[\"accuracy\"]\n",
        "model.fit(x_train, y_train, batch_size=32, epochs=2, validation_data=(x_val, y_val))# Train the compiled model with model.fit()"
      ],
      "execution_count": null,
      "outputs": [
        {
          "output_type": "stream",
          "text": [
            "Model: \"functional_1\"\n",
            "_________________________________________________________________\n",
            "Layer (type)                 Output Shape              Param #   \n",
            "=================================================================\n",
            "input_1 (InputLayer)         [(None, None)]            0         \n",
            "_________________________________________________________________\n",
            "embedding (Embedding)        (None, None, 8)           8000      \n",
            "_________________________________________________________________\n",
            "lstm (LSTM)                  (None, 8)                 544       \n",
            "_________________________________________________________________\n",
            "dense (Dense)                (None, 1)                 9         \n",
            "=================================================================\n",
            "Total params: 8,553\n",
            "Trainable params: 8,553\n",
            "Non-trainable params: 0\n",
            "_________________________________________________________________\n",
            "Epoch 1/2\n",
            "782/782 [==============================] - 8s 10ms/step - loss: 0.5182 - accuracy: 0.7363 - val_loss: 0.4131 - val_accuracy: 0.8140\n",
            "Epoch 2/2\n",
            "782/782 [==============================] - 7s 10ms/step - loss: 0.3945 - accuracy: 0.8237 - val_loss: 0.3849 - val_accuracy: 0.8263\n"
          ],
          "name": "stdout"
        },
        {
          "output_type": "execute_result",
          "data": {
            "text/plain": [
              "<tensorflow.python.keras.callbacks.History at 0x7f109c959e10>"
            ]
          },
          "metadata": {
            "tags": []
          },
          "execution_count": 4
        }
      ]
    },
    {
      "cell_type": "markdown",
      "metadata": {
        "id": "0vqvy2tdEw7J"
      },
      "source": [
        "### 2.3 - LSTM hyperparameter tuning###\n",
        "\n",
        "Boost the performance of obtained LSTM (aka vanilla model) by hyperparameter tuning.\n",
        "\n",
        "**Tasks:**\n",
        "- All modificiations are directly conducted based on the vanilla model.\n",
        "- For each scenario, **report <span style=\"color:red\"> BEST Validation Accuracy </span> and generate Training/Validation <span style=\"color:red\"> Accuracy plots over epochs</span>**. Just paste the plot figures in the cells with **Markdown mode**. \n",
        "1.  Scenario 1:\n",
        "    - Add one additional LSTM layer (totally 2 LSTM layers).\n",
        "    - Modify the embedding dimension to 16.\n",
        "    - Modify the units of LSTM to 16.\n",
        "2. Scenario 2:\n",
        "    - Add one additional LSTM layer (totally 2 LSTM layers).\n",
        "    - Modify the embedding dimension to 128.\n",
        "    - Modify the units of LSTM to 128.\n",
        "3. Scenario 3:\n",
        "    - Add one additional LSTM layer (totally 2 LSTM layers).\n",
        "    - Modify the embedding dimension to 128.\n",
        "    - Modify the units of LSTM to 128.\n",
        "    - Increase analysis length for review data to maxlen = 200\n",
        "\n",
        "\n",
        "For validation:\n",
        "- Scenario 1: **loss: ~0.4968 - accuracy: ~0.7450 - val_loss: ~0.4079 - val_accuracy: ~0.8198**\n",
        "- Scenario 2: **loss: ~0.4764 - accuracy: ~0.7670 - val_loss: ~0.4133 - val_accuracy: ~0.8179**\n",
        "- Scenario 3: **loss: ~0.4819 - accuracy: ~0.7644 - val_loss: ~0.4031 - val_accuracy: ~0.8105**\n",
        "\n",
        "\n",
        "https://keras.io/examples/nlp/bidirectional_lstm_imdb/  "
      ]
    },
    {
      "cell_type": "code",
      "metadata": {
        "id": "Keod5xXkEKnx",
        "colab": {
          "base_uri": "https://localhost:8080/"
        },
        "outputId": "2e80bb8f-9197-408d-f4c8-f28f72b2cc47"
      },
      "source": [
        "########################### Scenario 1 ###########################\n",
        "##################################################################\n",
        "\n",
        "### Set random seed to ensure deterministic results ###\n",
        "import os\n",
        "seed_value = 1\n",
        "os.environ['PYTHONHASHSEED']=str(seed_value)\n",
        "def reset_random_seeds():\n",
        "   tf.random.set_seed(seed_value)\n",
        "   np.random.seed(seed_value)\n",
        "   random.seed(seed_value)\n",
        "\n",
        "reset_random_seeds() # randomly set initial data\n",
        "\n",
        "max_features = 1000  # Only consider the top 1k words\n",
        "maxlen = 100 # Only consider the first 100 words of each movie review\n",
        "\n",
        "### Model design with Embedding and LSTM layers ####\n",
        "inputs = keras.Input(shape=(None,), dtype=\"int32\") # This is an easy way to set an adaptive length for input sequence\n",
        "x = layers.Embedding(max_features, 16)(inputs) # Embed data in a 16-dimensional vector\n",
        "x = layers.LSTM(16, return_sequences=True)(x) # Add 1st layer of LSTM with 16 hidden states (aka units); set return_sequences=true.\n",
        "x = layers.LSTM(16)(x) # Add 2nd layer of LSTM with 16 hidden states (aka units)\n",
        "outputs = layers.Dense(1, activation=\"sigmoid\")(x) # Add a classifier with units=1 and activation=\"sigmoid\"\n",
        "\n",
        "### Clear cached model to refresh memory and build new model for training ###\n",
        "keras.backend.clear_session() # Clear cached model\n",
        "model = keras.Model(inputs, outputs) # Build new keras model\n",
        "model.summary() # Print out model summary\n",
        "\n",
        "model.compile(\"adam\", \"binary_crossentropy\", metrics=[\"accuracy\"]) # Compile built model with \"adam\", \"binary_crossentropy\", and metrics=[\"accuracy\"]\n",
        "model.fit(x_train, y_train, batch_size=64, epochs=10, validation_data=(x_val, y_val)) # Train the compiled model using model.fit() with batch_size=64, epochs=10, and validation_data=(x_val, y_val)\n"
      ],
      "execution_count": null,
      "outputs": [
        {
          "output_type": "stream",
          "text": [
            "Model: \"functional_1\"\n",
            "_________________________________________________________________\n",
            "Layer (type)                 Output Shape              Param #   \n",
            "=================================================================\n",
            "input_3 (InputLayer)         [(None, None)]            0         \n",
            "_________________________________________________________________\n",
            "embedding_2 (Embedding)      (None, None, 16)          16000     \n",
            "_________________________________________________________________\n",
            "lstm_2 (LSTM)                (None, None, 16)          2112      \n",
            "_________________________________________________________________\n",
            "lstm_3 (LSTM)                (None, 16)                2112      \n",
            "_________________________________________________________________\n",
            "dense (Dense)                (None, 1)                 17        \n",
            "=================================================================\n",
            "Total params: 20,241\n",
            "Trainable params: 20,241\n",
            "Non-trainable params: 0\n",
            "_________________________________________________________________\n",
            "Epoch 1/10\n",
            "391/391 [==============================] - 7s 19ms/step - loss: 0.4968 - accuracy: 0.7450 - val_loss: 0.4079 - val_accuracy: 0.8198\n",
            "Epoch 2/10\n",
            "391/391 [==============================] - 7s 17ms/step - loss: 0.3883 - accuracy: 0.8286 - val_loss: 0.3844 - val_accuracy: 0.8242\n",
            "Epoch 3/10\n",
            "391/391 [==============================] - 6s 16ms/step - loss: 0.3688 - accuracy: 0.8382 - val_loss: 0.3692 - val_accuracy: 0.8333\n",
            "Epoch 4/10\n",
            "391/391 [==============================] - 6s 16ms/step - loss: 0.3541 - accuracy: 0.8436 - val_loss: 0.3798 - val_accuracy: 0.8257\n",
            "Epoch 5/10\n",
            "391/391 [==============================] - 6s 16ms/step - loss: 0.3446 - accuracy: 0.8464 - val_loss: 0.3665 - val_accuracy: 0.8338\n",
            "Epoch 6/10\n",
            "391/391 [==============================] - 6s 16ms/step - loss: 0.3353 - accuracy: 0.8520 - val_loss: 0.4104 - val_accuracy: 0.8247\n",
            "Epoch 7/10\n",
            "391/391 [==============================] - 6s 16ms/step - loss: 0.3257 - accuracy: 0.8540 - val_loss: 0.3680 - val_accuracy: 0.8325\n",
            "Epoch 8/10\n",
            "391/391 [==============================] - 6s 17ms/step - loss: 0.3188 - accuracy: 0.8594 - val_loss: 0.3659 - val_accuracy: 0.8334\n",
            "Epoch 9/10\n",
            "391/391 [==============================] - 6s 16ms/step - loss: 0.3110 - accuracy: 0.8602 - val_loss: 0.3800 - val_accuracy: 0.8334\n",
            "Epoch 10/10\n",
            "391/391 [==============================] - 6s 16ms/step - loss: 0.3048 - accuracy: 0.8656 - val_loss: 0.3928 - val_accuracy: 0.8343\n"
          ],
          "name": "stdout"
        },
        {
          "output_type": "execute_result",
          "data": {
            "text/plain": [
              "<tensorflow.python.keras.callbacks.History at 0x7f109dd3c828>"
            ]
          },
          "metadata": {
            "tags": []
          },
          "execution_count": 9
        }
      ]
    },
    {
      "cell_type": "code",
      "metadata": {
        "colab": {
          "base_uri": "https://localhost:8080/"
        },
        "id": "dzAE_XjXjAJU",
        "outputId": "8cb142a0-4400-4ef0-b79e-90c5f8c7ed7d"
      },
      "source": [
        "########################### Scenario 2 ###########################\n",
        "##################################################################\n",
        "\n",
        "### Set random seed to ensure deterministic results ###\n",
        "import os\n",
        "seed_value = 1\n",
        "os.environ['PYTHONHASHSEED']=str(seed_value)\n",
        "def reset_random_seeds():\n",
        "   tf.random.set_seed(seed_value)\n",
        "   np.random.seed(seed_value)\n",
        "   random.seed(seed_value)\n",
        "\n",
        "reset_random_seeds() # randomly set initial data\n",
        "\n",
        "max_features = 1000 # Only consider the top 1k words\n",
        "maxlen =  100 # Only consider the first 100 words of each movie review\n",
        "\n",
        "### Model design with Embedding and LSTM layers ####\n",
        "inputs = keras.Input(shape=(None,), dtype=\"int32\") # This is an easy way to set an adaptive length for input sequence\n",
        "x = layers.Embedding(max_features, 128)(inputs) # Embed data in a 128-dimensional vector\n",
        "x = layers.LSTM(128, return_sequences=True)(x) # Add 1st layer of LSTM with 128 hidden states (aka units); set return_sequences=true.\n",
        "x = layers.LSTM(128)(x) # Add 2nd layer of LSTM with 128 hidden states (aka units)\n",
        "outputs = layers.Dense(1,activation=\"sigmoid\")(x) # Add a classifier with units=1 and activation=\"sigmoid\"\n",
        "\n",
        "### Clear cached model to refresh memory and build new model for training ###\n",
        "keras.backend.clear_session() # Clear cached model\n",
        "model = keras.Model(inputs, outputs) # Build new keras model\n",
        "model.summary() # Print out model summary\n",
        "\n",
        "model.compile(\"adam\", \"binary_crossentropy\", metrics=[\"accuracy\"]) # Compile built model with \"adam\", \"binary_crossentropy\", and metrics=[\"accuracy\"]\n",
        "model.fit(x_train, y_train, batch_size=64, epochs=10, validation_data=(x_val, y_val)) # Train the compiled model using model.fit() with batch_size=64, epochs=10, and validation_data=(x_val, y_val)"
      ],
      "execution_count": null,
      "outputs": [
        {
          "output_type": "stream",
          "text": [
            "Model: \"functional_1\"\n",
            "_________________________________________________________________\n",
            "Layer (type)                 Output Shape              Param #   \n",
            "=================================================================\n",
            "input_1 (InputLayer)         [(None, None)]            0         \n",
            "_________________________________________________________________\n",
            "embedding (Embedding)        (None, None, 128)         128000    \n",
            "_________________________________________________________________\n",
            "lstm (LSTM)                  (None, None, 128)         131584    \n",
            "_________________________________________________________________\n",
            "lstm_1 (LSTM)                (None, 128)               131584    \n",
            "_________________________________________________________________\n",
            "dense (Dense)                (None, 1)                 129       \n",
            "=================================================================\n",
            "Total params: 391,297\n",
            "Trainable params: 391,297\n",
            "Non-trainable params: 0\n",
            "_________________________________________________________________\n",
            "Epoch 1/10\n",
            "391/391 [==============================] - 9s 23ms/step - loss: 0.4764 - accuracy: 0.7670 - val_loss: 0.4133 - val_accuracy: 0.8179\n",
            "Epoch 2/10\n",
            "391/391 [==============================] - 8s 20ms/step - loss: 0.3825 - accuracy: 0.8285 - val_loss: 0.3706 - val_accuracy: 0.8330\n",
            "Epoch 3/10\n",
            "391/391 [==============================] - 8s 20ms/step - loss: 0.3584 - accuracy: 0.8397 - val_loss: 0.3646 - val_accuracy: 0.8354\n",
            "Epoch 4/10\n",
            "391/391 [==============================] - 8s 21ms/step - loss: 0.3322 - accuracy: 0.8540 - val_loss: 0.3648 - val_accuracy: 0.8389\n",
            "Epoch 5/10\n",
            "391/391 [==============================] - 8s 21ms/step - loss: 0.3159 - accuracy: 0.8638 - val_loss: 0.3551 - val_accuracy: 0.8430\n",
            "Epoch 6/10\n",
            "391/391 [==============================] - 8s 20ms/step - loss: 0.2962 - accuracy: 0.8745 - val_loss: 0.3536 - val_accuracy: 0.8445\n",
            "Epoch 7/10\n",
            "391/391 [==============================] - 8s 20ms/step - loss: 0.2793 - accuracy: 0.8826 - val_loss: 0.3660 - val_accuracy: 0.8378\n",
            "Epoch 8/10\n",
            "391/391 [==============================] - 8s 20ms/step - loss: 0.2637 - accuracy: 0.8912 - val_loss: 0.3778 - val_accuracy: 0.8424\n",
            "Epoch 9/10\n",
            "391/391 [==============================] - 8s 21ms/step - loss: 0.2473 - accuracy: 0.8977 - val_loss: 0.3862 - val_accuracy: 0.8283\n",
            "Epoch 10/10\n",
            "391/391 [==============================] - 8s 21ms/step - loss: 0.2255 - accuracy: 0.9085 - val_loss: 0.4074 - val_accuracy: 0.8316\n"
          ],
          "name": "stdout"
        },
        {
          "output_type": "execute_result",
          "data": {
            "text/plain": [
              "<tensorflow.python.keras.callbacks.History at 0x7f1098334860>"
            ]
          },
          "metadata": {
            "tags": []
          },
          "execution_count": 10
        }
      ]
    },
    {
      "cell_type": "code",
      "metadata": {
        "colab": {
          "base_uri": "https://localhost:8080/"
        },
        "id": "l0PiWALLjAJU",
        "outputId": "e5875443-760b-43da-faf7-cb6ca5986305"
      },
      "source": [
        "########################### Scenario 3 ###########################\n",
        "##################################################################\n",
        "\n",
        "### Set random seed to ensure deterministic results ###\n",
        "import os\n",
        "seed_value = 1\n",
        "os.environ['PYTHONHASHSEED']=str(seed_value)\n",
        "def reset_random_seeds():\n",
        "   tf.random.set_seed(seed_value)\n",
        "   np.random.seed(seed_value)\n",
        "   random.seed(seed_value)\n",
        "\n",
        "reset_random_seeds() # randomly set initial data\n",
        "\n",
        "max_features = 1000 # Only consider the top 1k words\n",
        "maxlen = 200 # Only consider the first 200 words of each movie review\n",
        "\n",
        "### Model design with Embedding and LSTM layers ####\n",
        "inputs = keras.Input(shape=(None,), dtype=\"int32\") # This is an easy way to set an adaptive length for input sequence\n",
        "x = layers.Embedding(max_features, 128)(inputs) # Embed data in a 128-dimensional vector\n",
        "x = layers.LSTM(128, return_sequences=True)(x) # Add 1st layer of LSTM with 128 hidden states (aka units); set return_sequences=true.\n",
        "x = layers.LSTM(128)(x) # Add 2nd layer of LSTM with 128 hidden states (aka units)\n",
        "outputs = layers.Dense(1, activation=\"sigmoid\")(x) # Add a classifier with units=1 and activation=\"sigmoid\"\n",
        "\n",
        "### Clear cached model to refresh memory and build new model for training ###\n",
        "keras.backend.clear_session() # Clear cached model\n",
        "model = keras.Model(inputs, outputs) # Build new keras model\n",
        "model.summary() # Print out model summary\n",
        "\n",
        "model.compile(\"adam\", \"binary_crossentropy\", metrics=[\"accuracy\"]) # Compile built model with \"adam\", \"binary_crossentropy\", and metrics=[\"accuracy\"]\n",
        "model.fit(x_train, y_train, batch_size=64, epochs=10, validation_data=(x_val, y_val)) # Train the compiled model using model.fit() with batch_size=64, epochs=10, and validation_data=(x_val, y_val)"
      ],
      "execution_count": null,
      "outputs": [
        {
          "output_type": "stream",
          "text": [
            "Model: \"functional_1\"\n",
            "_________________________________________________________________\n",
            "Layer (type)                 Output Shape              Param #   \n",
            "=================================================================\n",
            "input_1 (InputLayer)         [(None, None)]            0         \n",
            "_________________________________________________________________\n",
            "embedding (Embedding)        (None, None, 128)         128000    \n",
            "_________________________________________________________________\n",
            "lstm (LSTM)                  (None, None, 128)         131584    \n",
            "_________________________________________________________________\n",
            "lstm_1 (LSTM)                (None, 128)               131584    \n",
            "_________________________________________________________________\n",
            "dense (Dense)                (None, 1)                 129       \n",
            "=================================================================\n",
            "Total params: 391,297\n",
            "Trainable params: 391,297\n",
            "Non-trainable params: 0\n",
            "_________________________________________________________________\n",
            "Epoch 1/10\n",
            "391/391 [==============================] - 9s 22ms/step - loss: 0.4764 - accuracy: 0.7670 - val_loss: 0.4133 - val_accuracy: 0.8179\n",
            "Epoch 2/10\n",
            "391/391 [==============================] - 8s 20ms/step - loss: 0.3825 - accuracy: 0.8285 - val_loss: 0.3706 - val_accuracy: 0.8330\n",
            "Epoch 3/10\n",
            "391/391 [==============================] - 8s 21ms/step - loss: 0.3584 - accuracy: 0.8397 - val_loss: 0.3646 - val_accuracy: 0.8354\n",
            "Epoch 4/10\n",
            "391/391 [==============================] - 8s 20ms/step - loss: 0.3322 - accuracy: 0.8540 - val_loss: 0.3648 - val_accuracy: 0.8389\n",
            "Epoch 5/10\n",
            "391/391 [==============================] - 8s 21ms/step - loss: 0.3159 - accuracy: 0.8638 - val_loss: 0.3551 - val_accuracy: 0.8430\n",
            "Epoch 6/10\n",
            "391/391 [==============================] - 8s 21ms/step - loss: 0.2962 - accuracy: 0.8745 - val_loss: 0.3536 - val_accuracy: 0.8445\n",
            "Epoch 7/10\n",
            "391/391 [==============================] - 8s 21ms/step - loss: 0.2793 - accuracy: 0.8826 - val_loss: 0.3660 - val_accuracy: 0.8378\n",
            "Epoch 8/10\n",
            "391/391 [==============================] - 8s 20ms/step - loss: 0.2637 - accuracy: 0.8912 - val_loss: 0.3778 - val_accuracy: 0.8424\n",
            "Epoch 9/10\n",
            "391/391 [==============================] - 8s 20ms/step - loss: 0.2473 - accuracy: 0.8977 - val_loss: 0.3862 - val_accuracy: 0.8283\n",
            "Epoch 10/10\n",
            "391/391 [==============================] - 8s 20ms/step - loss: 0.2255 - accuracy: 0.9085 - val_loss: 0.4074 - val_accuracy: 0.8316\n"
          ],
          "name": "stdout"
        },
        {
          "output_type": "execute_result",
          "data": {
            "text/plain": [
              "<tensorflow.python.keras.callbacks.History at 0x7f1040751828>"
            ]
          },
          "metadata": {
            "tags": []
          },
          "execution_count": 11
        }
      ]
    }
  ]
}